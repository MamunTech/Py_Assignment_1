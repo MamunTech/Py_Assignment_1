{
 "cells": [
  {
   "cell_type": "markdown",
   "metadata": {},
   "source": [
    "# Task 1:"
   ]
  },
  {
   "cell_type": "markdown",
   "metadata": {},
   "source": [
    "<b>1.</b> Install Jupyter notebook and run the first program and share the screenshot of the output"
   ]
  },
  {
   "cell_type": "markdown",
   "metadata": {},
   "source": [
    "<b>Answer:</b>\n",
    "<img src=\"ScreenShot.png\">"
   ]
  },
  {
   "cell_type": "markdown",
   "metadata": {},
   "source": [
    "<b>2.</b> Write a program which will find all such numbers which are divisible by 7 but are not a multiple\n",
    "of 5, between 2000 and 3200 (both included). The numbers obtained should be printed in a\n",
    "comma-separated sequence on a single line."
   ]
  },
  {
   "cell_type": "markdown",
   "metadata": {},
   "source": [
    "<b>Answer:</b>"
   ]
  },
  {
   "cell_type": "code",
   "execution_count": 1,
   "metadata": {},
   "outputs": [
    {
     "name": "stdout",
     "output_type": "stream",
     "text": [
      "2002 #2009 #2016 #2023 #2037 #2044 #2051 #2058 #2072 #2079 #2086 #2093 #2107 #2114 #2121 #2128 #2142 #2149 #2156 #2163 #2177 #2184 #2191 #2198 #2212 #2219 #2226 #2233 #2247 #2254 #2261 #2268 #2282 #2289 #2296 #2303 #2317 #2324 #2331 #2338 #2352 #2359 #2366 #2373 #2387 #2394 #2401 #2408 #2422 #2429 #2436 #2443 #2457 #2464 #2471 #2478 #2492 #2499 #2506 #2513 #2527 #2534 #2541 #2548 #2562 #2569 #2576 #2583 #2597 #2604 #2611 #2618 #2632 #2639 #2646 #2653 #2667 #2674 #2681 #2688 #2702 #2709 #2716 #2723 #2737 #2744 #2751 #2758 #2772 #2779 #2786 #2793 #2807 #2814 #2821 #2828 #2842 #2849 #2856 #2863 #2877 #2884 #2891 #2898 #2912 #2919 #2926 #2933 #2947 #2954 #2961 #2968 #2982 #2989 #2996 #3003 #3017 #3024 #3031 #3038 #3052 #3059 #3066 #3073 #3087 #3094 #3101 #3108 #3122 #3129 #3136 #3143 #3157 #3164 #3171 #3178 #3192 #3199 #"
     ]
    }
   ],
   "source": [
    "for i in range(2000,3201):\n",
    "    #print(i,end=\"\")\n",
    "    if ((i%7==0) & (i%5!=0)):\n",
    "        print(i,end=\" #\")"
   ]
  },
  {
   "cell_type": "markdown",
   "metadata": {},
   "source": [
    "<b>3.</b> Write a Python program to accept the user's first and last name and then getting them printed in\n",
    "the the reverse order with a space between first name and last name."
   ]
  },
  {
   "cell_type": "markdown",
   "metadata": {},
   "source": [
    "<b>Answer:</b>"
   ]
  },
  {
   "cell_type": "code",
   "execution_count": 2,
   "metadata": {},
   "outputs": [
    {
     "name": "stdout",
     "output_type": "stream",
     "text": [
      "Input your name: Al Mamun\n",
      "Mamun Al\n"
     ]
    }
   ],
   "source": [
    "value=input(\"Input your name: \")\n",
    "l=value.split(\" \")\n",
    "l=l[::-1]\n",
    "\n",
    "remove=' ' \n",
    "l=remove.join(l) #Converting List to string using \"join\" funciton\n",
    "\n",
    "print(l)"
   ]
  },
  {
   "cell_type": "markdown",
   "metadata": {},
   "source": [
    "<b>4.</b> Write a Python program to find the volume of a sphere with diameter 12 cm.\n",
    "\n",
    "<span>Formula: V=4/3 * π * (r)^3</span>"
   ]
  },
  {
   "cell_type": "code",
   "execution_count": 3,
   "metadata": {},
   "outputs": [
    {
     "name": "stdout",
     "output_type": "stream",
     "text": [
      "904.7786842338604\n"
     ]
    }
   ],
   "source": [
    "import math\n",
    "pi=math.pi\n",
    "diameter=12;\n",
    "r=diameter/2\n",
    "V=4/3 * pi * r*r*r\n",
    "print(V)"
   ]
  },
  {
   "cell_type": "markdown",
   "metadata": {},
   "source": [
    "# Task 2:"
   ]
  },
  {
   "cell_type": "markdown",
   "metadata": {},
   "source": [
    "<b>1.</b> Write a program which accepts a sequence of comma-separated numbers from console and\n",
    "generate a list."
   ]
  },
  {
   "cell_type": "markdown",
   "metadata": {},
   "source": [
    "<b>Answer:</b>"
   ]
  },
  {
   "cell_type": "code",
   "execution_count": 8,
   "metadata": {},
   "outputs": [
    {
     "name": "stdout",
     "output_type": "stream",
     "text": [
      "Input your value with comma: 1,2,3,4\n"
     ]
    },
    {
     "data": {
      "text/plain": [
       "['1', '2', '3', '4']"
      ]
     },
     "execution_count": 8,
     "metadata": {},
     "output_type": "execute_result"
    }
   ],
   "source": [
    "value=input(\"Input your value with comma: \")\n",
    "l=value.split(\",\")\n",
    "l"
   ]
  },
  {
   "cell_type": "markdown",
   "metadata": {},
   "source": [
    "<b>2.</b> Create the below pattern using nested for loop in Python.\n",
    "\n",
    "<b>*</b><br />\n",
    "<b>* *</b><br />\n",
    "<b>* * *</b><br />\n",
    "<b>* * * *</b><br />\n",
    "<b>* * * * *</b><br />\n",
    "<b>* * * *</b><br />\n",
    "<b>* * *</b><br />\n",
    "<b>* *</b><br />\n",
    "<b>*</b><br />\n"
   ]
  },
  {
   "cell_type": "markdown",
   "metadata": {},
   "source": [
    "<b>Answer:</b>"
   ]
  },
  {
   "cell_type": "code",
   "execution_count": 4,
   "metadata": {},
   "outputs": [
    {
     "name": "stdout",
     "output_type": "stream",
     "text": [
      "* \n",
      "\n",
      "* * \n",
      "\n",
      "* * * \n",
      "\n",
      "* * * * \n",
      "\n",
      "* * * * * \n",
      "\n",
      "* * * * \n",
      "\n",
      "* * * \n",
      "\n",
      "* * \n",
      "\n",
      "* \n",
      "\n"
     ]
    }
   ],
   "source": [
    "for j in [1,2,3,4,5,4,3,2,1]:\n",
    "        for k in range(j):\n",
    "            print('*',end=\" \")\n",
    "        print('\\n')"
   ]
  },
  {
   "cell_type": "markdown",
   "metadata": {},
   "source": [
    "<b>Or</b>"
   ]
  },
  {
   "cell_type": "code",
   "execution_count": 5,
   "metadata": {},
   "outputs": [
    {
     "name": "stdout",
     "output_type": "stream",
     "text": [
      "Just Press enter,Or Type any integer number to see the Magic: 6\n",
      "\n",
      "\n",
      "* \n",
      "\n",
      "* * \n",
      "\n",
      "* * * \n",
      "\n",
      "* * \n",
      "\n",
      "* \n",
      "\n"
     ]
    }
   ],
   "source": [
    "increment=0;\n",
    "\n",
    "try:\n",
    "    inpt=int(input(\"Just Press enter,Or Type any integer number to see the Magic: \"))\n",
    "    higest_num=round(inpt/2)+1\n",
    "except:\n",
    "    inpt=10;\n",
    "    higest_num=round(inpt/2)+1\n",
    "\n",
    "for i in range(inpt):\n",
    "    if i<higest_num:\n",
    "        for b in range(i):\n",
    "            print('*',end=\" \")\n",
    "        print('\\n')\n",
    "    else:\n",
    "        increment=increment+2\n",
    "        z=i-increment\n",
    "        for c in range(z):\n",
    "            print('*',end=\" \")\n",
    "        print('\\n')\n",
    "if inpt%2!=0:\n",
    "    print('*')\n",
    "    "
   ]
  },
  {
   "cell_type": "markdown",
   "metadata": {},
   "source": [
    "<b>3.</b> Write a Python program to reverse a word after accepting the input from the user.\n",
    "\n",
    "Sample Output:\n",
    "\n",
    "Input word: AcadGild\n",
    "\n",
    "Output: dilGdacA"
   ]
  },
  {
   "cell_type": "markdown",
   "metadata": {},
   "source": [
    "<b>Answer:</b>"
   ]
  },
  {
   "cell_type": "code",
   "execution_count": 6,
   "metadata": {},
   "outputs": [
    {
     "name": "stdout",
     "output_type": "stream",
     "text": [
      "Type any word : AcadGild\n",
      "The reversed word is : dliGdacA\n"
     ]
    }
   ],
   "source": [
    "word = input(\"Type any word : \")\n",
    "print (\"The reversed word is : \",end=\"\") \n",
    "rev_word = word[::-1] \n",
    "print (rev_word) "
   ]
  },
  {
   "cell_type": "markdown",
   "metadata": {},
   "source": [
    "<b>4.</b> Write a Python Program to print the given string in the format specified in the sample output.\n",
    "WE, THE PEOPLE OF INDIA, having solemnly resolved to constitute India into a\n",
    "SOVEREIGN, SOCIALIST, SECULAR, DEMOCRATIC REPUBLIC and to secure to all\n",
    "its citizens\n",
    "\n",
    "Sample Output:\n",
    "\n",
    " WE, THE PEOPLE OF INDIA,\n",
    "    \n",
    "    having solemnly resolved to constitute India into a SOVEREIGN, !\n",
    "        \n",
    "        SOCIALIST, SECULAR, DEMOCRATIC REPUBLIC\n",
    "         \n",
    "         and to secure to all its citizens"
   ]
  },
  {
   "cell_type": "markdown",
   "metadata": {},
   "source": [
    "<b>Answer:</b>"
   ]
  },
  {
   "cell_type": "code",
   "execution_count": 7,
   "metadata": {},
   "outputs": [
    {
     "name": "stdout",
     "output_type": "stream",
     "text": [
      "WE, THE PEOPLE OF INDIA,\n",
      "\thaving solemnly resolved to constitute India into a SOVEREIGN, !\n",
      "\t \tSOCIALIST, SECULAR, DEMOCRATIC REPUBLIC\n",
      "\t \t and to secure to all its citizens\n"
     ]
    }
   ],
   "source": [
    "print(\"WE, THE PEOPLE OF INDIA,\")\n",
    "print('\\t',end=\"\")\n",
    "print(\"having solemnly resolved to constitute India into a SOVEREIGN, !\")\n",
    "print('\\t \\t',end=\"\")\n",
    "print(\"SOCIALIST, SECULAR, DEMOCRATIC REPUBLIC\")\n",
    "print('\\t \\t ',end=\"\")\n",
    "print(\"and to secure to all its citizens\")"
   ]
  }
 ],
 "metadata": {
  "kernelspec": {
   "display_name": "Python 3",
   "language": "python",
   "name": "python3"
  },
  "language_info": {
   "codemirror_mode": {
    "name": "ipython",
    "version": 3
   },
   "file_extension": ".py",
   "mimetype": "text/x-python",
   "name": "python",
   "nbconvert_exporter": "python",
   "pygments_lexer": "ipython3",
   "version": "3.7.4"
  }
 },
 "nbformat": 4,
 "nbformat_minor": 2
}
